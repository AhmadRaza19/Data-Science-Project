{
 "cells": [
  {
   "cell_type": "markdown",
   "id": "4312c850",
   "metadata": {},
   "source": [
    "# Project Overview"
   ]
  },
  {
   "cell_type": "markdown",
   "id": "8eccaf45",
   "metadata": {},
   "source": [
    "The project's title is \"Detection and Classification of Spam Comments on Youtube\". The purpose of this project is to detect and classify types of spam comments that appear on Youtube videos. In essence, this means taking comments from Youtube videos, taking the data associated with the comment, e.g. the author's name, and trying to find correlations between the comment and its data with spam comments. I will use models such as logistic regression, decision trees, and support vector machines to fully cross-check the results of the classification"
   ]
  },
  {
   "cell_type": "markdown",
   "id": "08ced26b-1120-40fa-a555-36f99f99c668",
   "metadata": {},
   "source": [
    "# Importing the CSV file with 1000+ comments with classification of spam and non spam (1 and 0)"
   ]
  },
  {
   "cell_type": "code",
   "execution_count": 1,
   "id": "e9fc2a51-90f3-4391-ac55-d86fb216f534",
   "metadata": {},
   "outputs": [
    {
     "data": {
      "text/html": [
       "<div>\n",
       "<style scoped>\n",
       "    .dataframe tbody tr th:only-of-type {\n",
       "        vertical-align: middle;\n",
       "    }\n",
       "\n",
       "    .dataframe tbody tr th {\n",
       "        vertical-align: top;\n",
       "    }\n",
       "\n",
       "    .dataframe thead th {\n",
       "        text-align: right;\n",
       "    }\n",
       "</style>\n",
       "<table border=\"1\" class=\"dataframe\">\n",
       "  <thead>\n",
       "    <tr style=\"text-align: right;\">\n",
       "      <th></th>\n",
       "      <th>COMMENT_ID</th>\n",
       "      <th>AUTHOR</th>\n",
       "      <th>DATE</th>\n",
       "      <th>CONTENT</th>\n",
       "      <th>CLASS</th>\n",
       "    </tr>\n",
       "  </thead>\n",
       "  <tbody>\n",
       "    <tr>\n",
       "      <th>0</th>\n",
       "      <td>LZQPQhLyRh80UYxNuaDWhIGQYNQ96IuCg-AYWqNPjpU</td>\n",
       "      <td>Julius NM</td>\n",
       "      <td>2013-11-07T06:20:48</td>\n",
       "      <td>Huh, anyway check out this you[tube] channel: ...</td>\n",
       "      <td>1</td>\n",
       "    </tr>\n",
       "    <tr>\n",
       "      <th>1</th>\n",
       "      <td>LZQPQhLyRh_C2cTtd9MvFRJedxydaVW-2sNg5Diuo4A</td>\n",
       "      <td>adam riyati</td>\n",
       "      <td>2013-11-07T12:37:15</td>\n",
       "      <td>Hey guys check out my new channel and our firs...</td>\n",
       "      <td>1</td>\n",
       "    </tr>\n",
       "    <tr>\n",
       "      <th>2</th>\n",
       "      <td>LZQPQhLyRh9MSZYnf8djyk0gEF9BHDPYrrK-qCczIY8</td>\n",
       "      <td>Evgeny Murashkin</td>\n",
       "      <td>2013-11-08T17:34:21</td>\n",
       "      <td>just for test I have to say murdev.com</td>\n",
       "      <td>1</td>\n",
       "    </tr>\n",
       "    <tr>\n",
       "      <th>3</th>\n",
       "      <td>z13jhp0bxqncu512g22wvzkasxmvvzjaz04</td>\n",
       "      <td>ElNino Melendez</td>\n",
       "      <td>2013-11-09T08:28:43</td>\n",
       "      <td>me shaking my sexy ass on my channel enjoy ^_^ ﻿</td>\n",
       "      <td>1</td>\n",
       "    </tr>\n",
       "    <tr>\n",
       "      <th>4</th>\n",
       "      <td>z13fwbwp1oujthgqj04chlngpvzmtt3r3dw</td>\n",
       "      <td>GsMega</td>\n",
       "      <td>2013-11-10T16:05:38</td>\n",
       "      <td>watch?v=vtaRGgvGtWQ   Check this out .﻿</td>\n",
       "      <td>1</td>\n",
       "    </tr>\n",
       "    <tr>\n",
       "      <th>...</th>\n",
       "      <td>...</td>\n",
       "      <td>...</td>\n",
       "      <td>...</td>\n",
       "      <td>...</td>\n",
       "      <td>...</td>\n",
       "    </tr>\n",
       "    <tr>\n",
       "      <th>1133</th>\n",
       "      <td>z13lvr4iupatjlrem231yvpxolzvspwdl</td>\n",
       "      <td>Salty Croc</td>\n",
       "      <td>2014-07-22T04:20:37.489000</td>\n",
       "      <td>Like this comment for no reason﻿</td>\n",
       "      <td>1</td>\n",
       "    </tr>\n",
       "    <tr>\n",
       "      <th>1134</th>\n",
       "      <td>z12lxhrqdkyusbkji04cihtrvn3jvxnqszg0k</td>\n",
       "      <td>Bob Orton</td>\n",
       "      <td>2014-07-22T00:26:50.820000</td>\n",
       "      <td>love this song﻿</td>\n",
       "      <td>0</td>\n",
       "    </tr>\n",
       "    <tr>\n",
       "      <th>1135</th>\n",
       "      <td>z12xhdjrsxm3v550w22oynsjrnmvjhkvj</td>\n",
       "      <td>LuckyMusiqLive</td>\n",
       "      <td>2014-07-21T22:25:54.048000</td>\n",
       "      <td>this song is awesome. these guys are the best....</td>\n",
       "      <td>1</td>\n",
       "    </tr>\n",
       "    <tr>\n",
       "      <th>1136</th>\n",
       "      <td>z13msngo3qvwx1ym223pehqgouexzdmnm</td>\n",
       "      <td>xXxPWND 420xXx</td>\n",
       "      <td>2014-07-21T11:05:51.945000</td>\n",
       "      <td>HOW MANY THUMBS UP FOR LOUIS SAVING THE DAY!?!?﻿</td>\n",
       "      <td>1</td>\n",
       "    </tr>\n",
       "    <tr>\n",
       "      <th>1137</th>\n",
       "      <td>z120hptrylzqzdsoj04cepaonmuyyr1afj0</td>\n",
       "      <td>Matheus Macedo</td>\n",
       "      <td>2014-07-21T04:24:24.585000</td>\n",
       "      <td>NICE :3﻿</td>\n",
       "      <td>0</td>\n",
       "    </tr>\n",
       "  </tbody>\n",
       "</table>\n",
       "<p>1138 rows × 5 columns</p>\n",
       "</div>"
      ],
      "text/plain": [
       "                                       COMMENT_ID            AUTHOR  \\\n",
       "0     LZQPQhLyRh80UYxNuaDWhIGQYNQ96IuCg-AYWqNPjpU         Julius NM   \n",
       "1     LZQPQhLyRh_C2cTtd9MvFRJedxydaVW-2sNg5Diuo4A       adam riyati   \n",
       "2     LZQPQhLyRh9MSZYnf8djyk0gEF9BHDPYrrK-qCczIY8  Evgeny Murashkin   \n",
       "3             z13jhp0bxqncu512g22wvzkasxmvvzjaz04   ElNino Melendez   \n",
       "4             z13fwbwp1oujthgqj04chlngpvzmtt3r3dw            GsMega   \n",
       "...                                           ...               ...   \n",
       "1133            z13lvr4iupatjlrem231yvpxolzvspwdl        Salty Croc   \n",
       "1134        z12lxhrqdkyusbkji04cihtrvn3jvxnqszg0k         Bob Orton   \n",
       "1135            z12xhdjrsxm3v550w22oynsjrnmvjhkvj    LuckyMusiqLive   \n",
       "1136            z13msngo3qvwx1ym223pehqgouexzdmnm    xXxPWND 420xXx   \n",
       "1137          z120hptrylzqzdsoj04cepaonmuyyr1afj0    Matheus Macedo   \n",
       "\n",
       "                            DATE  \\\n",
       "0            2013-11-07T06:20:48   \n",
       "1            2013-11-07T12:37:15   \n",
       "2            2013-11-08T17:34:21   \n",
       "3            2013-11-09T08:28:43   \n",
       "4            2013-11-10T16:05:38   \n",
       "...                          ...   \n",
       "1133  2014-07-22T04:20:37.489000   \n",
       "1134  2014-07-22T00:26:50.820000   \n",
       "1135  2014-07-21T22:25:54.048000   \n",
       "1136  2014-07-21T11:05:51.945000   \n",
       "1137  2014-07-21T04:24:24.585000   \n",
       "\n",
       "                                                CONTENT  CLASS  \n",
       "0     Huh, anyway check out this you[tube] channel: ...      1  \n",
       "1     Hey guys check out my new channel and our firs...      1  \n",
       "2                just for test I have to say murdev.com      1  \n",
       "3      me shaking my sexy ass on my channel enjoy ^_^ ﻿      1  \n",
       "4               watch?v=vtaRGgvGtWQ   Check this out .﻿      1  \n",
       "...                                                 ...    ...  \n",
       "1133                   Like this comment for no reason﻿      1  \n",
       "1134                                    love this song﻿      0  \n",
       "1135  this song is awesome. these guys are the best....      1  \n",
       "1136   HOW MANY THUMBS UP FOR LOUIS SAVING THE DAY!?!?﻿      1  \n",
       "1137                                           NICE :3﻿      0  \n",
       "\n",
       "[1138 rows x 5 columns]"
      ]
     },
     "metadata": {},
     "output_type": "display_data"
    }
   ],
   "source": [
    "import pandas as pd\n",
    "import numpy as np\n",
    "\n",
    "df = pd.read_csv('CS418_DS.csv')\n",
    "\n",
    "display(df)"
   ]
  },
  {
   "cell_type": "markdown",
   "id": "645afa9c-5438-441c-8262-d05f13a82c5b",
   "metadata": {},
   "source": [
    "# Cleaning Data\n",
    "\n",
    "We will delete the Comment_ID column because we don't really need it for classification and it won't be relevant for anything later on as well. Note that all the rows are necessary, because any comment, even an empty one, can be classified as spam or non-spam:"
   ]
  },
  {
   "cell_type": "code",
   "execution_count": 2,
   "id": "aa91c0aa-186e-40ff-9a3a-92ae71c066f7",
   "metadata": {},
   "outputs": [
    {
     "data": {
      "text/html": [
       "<div>\n",
       "<style scoped>\n",
       "    .dataframe tbody tr th:only-of-type {\n",
       "        vertical-align: middle;\n",
       "    }\n",
       "\n",
       "    .dataframe tbody tr th {\n",
       "        vertical-align: top;\n",
       "    }\n",
       "\n",
       "    .dataframe thead th {\n",
       "        text-align: right;\n",
       "    }\n",
       "</style>\n",
       "<table border=\"1\" class=\"dataframe\">\n",
       "  <thead>\n",
       "    <tr style=\"text-align: right;\">\n",
       "      <th></th>\n",
       "      <th>AUTHOR</th>\n",
       "      <th>DATE</th>\n",
       "      <th>CONTENT</th>\n",
       "      <th>CLASS</th>\n",
       "    </tr>\n",
       "  </thead>\n",
       "  <tbody>\n",
       "    <tr>\n",
       "      <th>0</th>\n",
       "      <td>Julius NM</td>\n",
       "      <td>2013-11-07T06:20:48</td>\n",
       "      <td>Huh, anyway check out this you[tube] channel: ...</td>\n",
       "      <td>1</td>\n",
       "    </tr>\n",
       "    <tr>\n",
       "      <th>1</th>\n",
       "      <td>adam riyati</td>\n",
       "      <td>2013-11-07T12:37:15</td>\n",
       "      <td>Hey guys check out my new channel and our firs...</td>\n",
       "      <td>1</td>\n",
       "    </tr>\n",
       "    <tr>\n",
       "      <th>2</th>\n",
       "      <td>Evgeny Murashkin</td>\n",
       "      <td>2013-11-08T17:34:21</td>\n",
       "      <td>just for test I have to say murdev.com</td>\n",
       "      <td>1</td>\n",
       "    </tr>\n",
       "    <tr>\n",
       "      <th>3</th>\n",
       "      <td>ElNino Melendez</td>\n",
       "      <td>2013-11-09T08:28:43</td>\n",
       "      <td>me shaking my sexy ass on my channel enjoy ^_^ ﻿</td>\n",
       "      <td>1</td>\n",
       "    </tr>\n",
       "    <tr>\n",
       "      <th>4</th>\n",
       "      <td>GsMega</td>\n",
       "      <td>2013-11-10T16:05:38</td>\n",
       "      <td>watch?v=vtaRGgvGtWQ   Check this out .﻿</td>\n",
       "      <td>1</td>\n",
       "    </tr>\n",
       "    <tr>\n",
       "      <th>...</th>\n",
       "      <td>...</td>\n",
       "      <td>...</td>\n",
       "      <td>...</td>\n",
       "      <td>...</td>\n",
       "    </tr>\n",
       "    <tr>\n",
       "      <th>1133</th>\n",
       "      <td>Salty Croc</td>\n",
       "      <td>2014-07-22T04:20:37.489000</td>\n",
       "      <td>Like this comment for no reason﻿</td>\n",
       "      <td>1</td>\n",
       "    </tr>\n",
       "    <tr>\n",
       "      <th>1134</th>\n",
       "      <td>Bob Orton</td>\n",
       "      <td>2014-07-22T00:26:50.820000</td>\n",
       "      <td>love this song﻿</td>\n",
       "      <td>0</td>\n",
       "    </tr>\n",
       "    <tr>\n",
       "      <th>1135</th>\n",
       "      <td>LuckyMusiqLive</td>\n",
       "      <td>2014-07-21T22:25:54.048000</td>\n",
       "      <td>this song is awesome. these guys are the best....</td>\n",
       "      <td>1</td>\n",
       "    </tr>\n",
       "    <tr>\n",
       "      <th>1136</th>\n",
       "      <td>xXxPWND 420xXx</td>\n",
       "      <td>2014-07-21T11:05:51.945000</td>\n",
       "      <td>HOW MANY THUMBS UP FOR LOUIS SAVING THE DAY!?!?﻿</td>\n",
       "      <td>1</td>\n",
       "    </tr>\n",
       "    <tr>\n",
       "      <th>1137</th>\n",
       "      <td>Matheus Macedo</td>\n",
       "      <td>2014-07-21T04:24:24.585000</td>\n",
       "      <td>NICE :3﻿</td>\n",
       "      <td>0</td>\n",
       "    </tr>\n",
       "  </tbody>\n",
       "</table>\n",
       "<p>1138 rows × 4 columns</p>\n",
       "</div>"
      ],
      "text/plain": [
       "                AUTHOR                        DATE  \\\n",
       "0            Julius NM         2013-11-07T06:20:48   \n",
       "1          adam riyati         2013-11-07T12:37:15   \n",
       "2     Evgeny Murashkin         2013-11-08T17:34:21   \n",
       "3      ElNino Melendez         2013-11-09T08:28:43   \n",
       "4               GsMega         2013-11-10T16:05:38   \n",
       "...                ...                         ...   \n",
       "1133        Salty Croc  2014-07-22T04:20:37.489000   \n",
       "1134         Bob Orton  2014-07-22T00:26:50.820000   \n",
       "1135    LuckyMusiqLive  2014-07-21T22:25:54.048000   \n",
       "1136    xXxPWND 420xXx  2014-07-21T11:05:51.945000   \n",
       "1137    Matheus Macedo  2014-07-21T04:24:24.585000   \n",
       "\n",
       "                                                CONTENT  CLASS  \n",
       "0     Huh, anyway check out this you[tube] channel: ...      1  \n",
       "1     Hey guys check out my new channel and our firs...      1  \n",
       "2                just for test I have to say murdev.com      1  \n",
       "3      me shaking my sexy ass on my channel enjoy ^_^ ﻿      1  \n",
       "4               watch?v=vtaRGgvGtWQ   Check this out .﻿      1  \n",
       "...                                                 ...    ...  \n",
       "1133                   Like this comment for no reason﻿      1  \n",
       "1134                                    love this song﻿      0  \n",
       "1135  this song is awesome. these guys are the best....      1  \n",
       "1136   HOW MANY THUMBS UP FOR LOUIS SAVING THE DAY!?!?﻿      1  \n",
       "1137                                           NICE :3﻿      0  \n",
       "\n",
       "[1138 rows x 4 columns]"
      ]
     },
     "metadata": {},
     "output_type": "display_data"
    }
   ],
   "source": [
    "df = df.drop(['COMMENT_ID'], axis=1)\n",
    "display(df)"
   ]
  },
  {
   "cell_type": "markdown",
   "id": "37d29a00-2864-45fd-abad-dc206dd1f2a1",
   "metadata": {},
   "source": [
    "# Exploratory Data Analysis & Visualizations\n",
    "\n",
    "The data itself looks interesting in terms of common patterns among the comments. Many of the spam comments either have links asssociated with them, emotes/emojis, or unrelated text to the content of the video. There is a pretty even split of spam to non-spam comments. The video dates all range around the same time, and the authors are all also practically unique. Sometimes, something that classifies a comment as spam are multiple comments in a short time by the same author, but that's not that case here. We believe that we will be able to properly classify any comments as spam or not using this initial data."
   ]
  },
  {
   "cell_type": "markdown",
   "id": "3f950575-529a-4174-8fc9-f35f3054e272",
   "metadata": {},
   "source": [
    "# Visualizations (EDA)\n",
    "\n",
    "One interesting question we can pose in which keyword seems to have a greater impact than others in terms of scam comments. For this, we can pick any n arbitrary \"scammy\" words and put them against eachother. Obviously, these aren't guaranteed to be the most common scam words, but we can still see how they face against eachother. Here, we pick 4 common words (\"http\" for a link, \"check\" for a referral scam, \"follow\" for a follow bot, and \"like\" for a like bot) and see which usually appeared more in the data set. We have to remember to also make sure not to count duplicated (sentences with more than one), so we can also prioritize (obviously this will create some bias).\n"
   ]
  },
  {
   "cell_type": "code",
   "execution_count": 3,
   "id": "a9d6bd20-806f-4793-8f6a-8f7d83bae396",
   "metadata": {},
   "outputs": [
    {
     "name": "stdout",
     "output_type": "stream",
     "text": [
      "432\n"
     ]
    },
    {
     "data": {
      "image/png": "[encoded data removed]",
      "text/plain": [
       "<Figure size 640x480 with 1 Axes>"
      ]
     },
     "metadata": {},
     "output_type": "display_data"
    }
   ],
   "source": [
    "from sklearn.feature_extraction.text import CountVectorizer\n",
    "import matplotlib.pyplot as plt\n",
    "import numpy as np\n",
    "\n",
    "d = df[df['CLASS'] == 1]\n",
    "vectorizer = CountVectorizer()\n",
    "X = vectorizer.fit_transform(df['CONTENT'])\n",
    "temp = pd.DataFrame(vectorizer.get_feature_names_out(), columns=['Vals'])\n",
    "\n",
    "counts = []\n",
    "for (columnName, columnData) in d['CONTENT'].iteritems():\n",
    "    if \"http\" in columnData.lower():\n",
    "        counts.append(\"link\")\n",
    "    elif \"check\" in columnData.lower():\n",
    "        counts.append(\"scam\")\n",
    "    elif \"follow\" in columnData.lower():\n",
    "        counts.append(\"follow\")\n",
    "    elif \"like\" in columnData.lower():\n",
    "        counts.append(\"like\")\n",
    "plt.hist(counts)\n",
    "print(len(counts))"
   ]
  },
  {
   "cell_type": "markdown",
   "id": "e3d63619-4eb5-458e-b018-bc72ff51ae7e",
   "metadata": {},
   "source": [
    "Notice how a scam referral using the word \"check\" had the most unique messages, and these aren't even counting overlapping ones. Here are the overlapping ones:"
   ]
  },
  {
   "cell_type": "code",
   "execution_count": 4,
   "id": "59d627ed-dd36-4f75-b106-cab6476ec6e5",
   "metadata": {},
   "outputs": [
    {
     "name": "stdout",
     "output_type": "stream",
     "text": [
      "493\n"
     ]
    },
    {
     "data": {
      "image/png": "[encoded data removed]",
      "text/plain": [
       "<Figure size 640x480 with 1 Axes>"
      ]
     },
     "metadata": {},
     "output_type": "display_data"
    }
   ],
   "source": [
    "counts2 = []\n",
    "for (columnName, columnData) in d['CONTENT'].iteritems():\n",
    "    if \"http\" in columnData.lower():\n",
    "        counts2.append(\"link\")\n",
    "    if \"check\" in columnData.lower():\n",
    "        counts2.append(\"scam\")\n",
    "    if \"follow\" in columnData.lower():\n",
    "        counts2.append(\"follow\")\n",
    "    if \"like\" in columnData.lower():\n",
    "        counts2.append(\"like\")\n",
    "plt.hist(counts2)\n",
    "print(len(counts2))"
   ]
  },
  {
   "cell_type": "markdown",
   "id": "ed0fcd44-92ef-4896-b7ac-316531fb2165",
   "metadata": {},
   "source": [
    "Notice how the graphs are almost identical, with \"scam\" being the first and \"link\" the second. The only difference seems to be an increase in the \"like\" category. Through this, we can also conclude that most of the scams are pretty unique, or rather use unique words. There doesn't seem to be a lot of overlap. ALSO note how using just these 4 words, we've hit almost 500 sentences, which is close to the scam total amount! This means that most of the scam messages contain these 4 words that we chose at random."
   ]
  },
  {
   "cell_type": "code",
   "execution_count": 5,
   "id": "90617d7e",
   "metadata": {},
   "outputs": [
    {
     "name": "stdout",
     "output_type": "stream",
     "text": [
      "Mean length of non-spam comments: 59.1231884057971\n",
      "Mean length of spam comments: 105.7815699658703\n"
     ]
    },
    {
     "data": {
      "image/png": "[encoded data removed]",
      "text/plain": [
       "<Figure size 640x480 with 1 Axes>"
      ]
     },
     "metadata": {},
     "output_type": "display_data"
    }
   ],
   "source": [
    "# Are spam comments longer than non-spam comments on average?\n",
    "\n",
    "# Extracting the comments that are classifed as spam or not\n",
    "# into their own respective Series objects\n",
    "non_spam_comments_df = df.query('CLASS == 0')['CONTENT']\n",
    "spam_comments_df = df.query('CLASS == 1')['CONTENT']\n",
    "\n",
    "# Replacing the contents of each Series with the lengths\n",
    "# of each individual comment\n",
    "non_spam_lengths = non_spam_comments_df.apply(len)\n",
    "spam_lengths = spam_comments_df.apply(len)\n",
    "\n",
    "# Converting both Series to actual Dataframes\n",
    "# This is to use the boxplot command\n",
    "non_spam_lengths = non_spam_lengths.to_frame()\n",
    "spam_lengths = spam_lengths.to_frame()\n",
    "\n",
    "# Combine both dataframes into one dataframe\n",
    "# This is to plot both boxplots on one plot\n",
    "combined_dfs = pd.DataFrame({'NON_SPAM_LENGTH': non_spam_lengths['CONTENT'],\n",
    "                             'SPAM_LENGTH': spam_lengths['CONTENT']})\n",
    "\n",
    "# Boxplot of the lengths of non spam comments and spam comments\n",
    "combined_dfs.boxplot()\n",
    "\n",
    "print(\"Mean length of non-spam comments:\", np.mean(combined_dfs['NON_SPAM_LENGTH']))\n",
    "print(\"Mean length of spam comments:\", np.mean(combined_dfs['SPAM_LENGTH']))"
   ]
  },
  {
   "cell_type": "markdown",
   "id": "9caa59eb-a144-42f7-8115-47269547302c",
   "metadata": {},
   "source": [
    "This is a visualization comparing the length in characters of the non-spam data to the spam data."
   ]
  },
  {
   "cell_type": "markdown",
   "id": "c512eb41-fded-426d-b15c-ad620163afeb",
   "metadata": {},
   "source": [
    "The final visualization will involve looking at the relationship between emoji count and comment length (in characters). We can use the emoji package to help us count the amount of emojis in a string:"
   ]
  },
  {
   "cell_type": "code",
   "execution_count": 6,
   "id": "658ac48e-0366-4ff1-95d0-d97e4053d87e",
   "metadata": {},
   "outputs": [
    {
     "data": {
      "text/html": [
       "<div>\n",
       "<style scoped>\n",
       "    .dataframe tbody tr th:only-of-type {\n",
       "        vertical-align: middle;\n",
       "    }\n",
       "\n",
       "    .dataframe tbody tr th {\n",
       "        vertical-align: top;\n",
       "    }\n",
       "\n",
       "    .dataframe thead th {\n",
       "        text-align: right;\n",
       "    }\n",
       "</style>\n",
       "<table border=\"1\" class=\"dataframe\">\n",
       "  <thead>\n",
       "    <tr style=\"text-align: right;\">\n",
       "      <th></th>\n",
       "      <th>AUTHOR</th>\n",
       "      <th>DATE</th>\n",
       "      <th>CONTENT</th>\n",
       "      <th>Emoji Count</th>\n",
       "      <th>CLASS</th>\n",
       "    </tr>\n",
       "  </thead>\n",
       "  <tbody>\n",
       "    <tr>\n",
       "      <th>0</th>\n",
       "      <td>Julius NM</td>\n",
       "      <td>2013-11-07T06:20:48</td>\n",
       "      <td>Huh, anyway check out this you[tube] channel: ...</td>\n",
       "      <td>0</td>\n",
       "      <td>1</td>\n",
       "    </tr>\n",
       "    <tr>\n",
       "      <th>1</th>\n",
       "      <td>adam riyati</td>\n",
       "      <td>2013-11-07T12:37:15</td>\n",
       "      <td>Hey guys check out my new channel and our firs...</td>\n",
       "      <td>0</td>\n",
       "      <td>1</td>\n",
       "    </tr>\n",
       "    <tr>\n",
       "      <th>2</th>\n",
       "      <td>Evgeny Murashkin</td>\n",
       "      <td>2013-11-08T17:34:21</td>\n",
       "      <td>just for test I have to say murdev.com</td>\n",
       "      <td>0</td>\n",
       "      <td>1</td>\n",
       "    </tr>\n",
       "    <tr>\n",
       "      <th>3</th>\n",
       "      <td>ElNino Melendez</td>\n",
       "      <td>2013-11-09T08:28:43</td>\n",
       "      <td>me shaking my sexy ass on my channel enjoy ^_^ ﻿</td>\n",
       "      <td>0</td>\n",
       "      <td>1</td>\n",
       "    </tr>\n",
       "    <tr>\n",
       "      <th>4</th>\n",
       "      <td>GsMega</td>\n",
       "      <td>2013-11-10T16:05:38</td>\n",
       "      <td>watch?v=vtaRGgvGtWQ   Check this out .﻿</td>\n",
       "      <td>0</td>\n",
       "      <td>1</td>\n",
       "    </tr>\n",
       "    <tr>\n",
       "      <th>...</th>\n",
       "      <td>...</td>\n",
       "      <td>...</td>\n",
       "      <td>...</td>\n",
       "      <td>...</td>\n",
       "      <td>...</td>\n",
       "    </tr>\n",
       "    <tr>\n",
       "      <th>1133</th>\n",
       "      <td>Salty Croc</td>\n",
       "      <td>2014-07-22T04:20:37.489000</td>\n",
       "      <td>Like this comment for no reason﻿</td>\n",
       "      <td>0</td>\n",
       "      <td>1</td>\n",
       "    </tr>\n",
       "    <tr>\n",
       "      <th>1134</th>\n",
       "      <td>Bob Orton</td>\n",
       "      <td>2014-07-22T00:26:50.820000</td>\n",
       "      <td>love this song﻿</td>\n",
       "      <td>0</td>\n",
       "      <td>0</td>\n",
       "    </tr>\n",
       "    <tr>\n",
       "      <th>1135</th>\n",
       "      <td>LuckyMusiqLive</td>\n",
       "      <td>2014-07-21T22:25:54.048000</td>\n",
       "      <td>this song is awesome. these guys are the best....</td>\n",
       "      <td>0</td>\n",
       "      <td>1</td>\n",
       "    </tr>\n",
       "    <tr>\n",
       "      <th>1136</th>\n",
       "      <td>xXxPWND 420xXx</td>\n",
       "      <td>2014-07-21T11:05:51.945000</td>\n",
       "      <td>HOW MANY THUMBS UP FOR LOUIS SAVING THE DAY!?!?﻿</td>\n",
       "      <td>0</td>\n",
       "      <td>1</td>\n",
       "    </tr>\n",
       "    <tr>\n",
       "      <th>1137</th>\n",
       "      <td>Matheus Macedo</td>\n",
       "      <td>2014-07-21T04:24:24.585000</td>\n",
       "      <td>NICE :3﻿</td>\n",
       "      <td>0</td>\n",
       "      <td>0</td>\n",
       "    </tr>\n",
       "  </tbody>\n",
       "</table>\n",
       "<p>1138 rows × 5 columns</p>\n",
       "</div>"
      ],
      "text/plain": [
       "                AUTHOR                        DATE  \\\n",
       "0            Julius NM         2013-11-07T06:20:48   \n",
       "1          adam riyati         2013-11-07T12:37:15   \n",
       "2     Evgeny Murashkin         2013-11-08T17:34:21   \n",
       "3      ElNino Melendez         2013-11-09T08:28:43   \n",
       "4               GsMega         2013-11-10T16:05:38   \n",
       "...                ...                         ...   \n",
       "1133        Salty Croc  2014-07-22T04:20:37.489000   \n",
       "1134         Bob Orton  2014-07-22T00:26:50.820000   \n",
       "1135    LuckyMusiqLive  2014-07-21T22:25:54.048000   \n",
       "1136    xXxPWND 420xXx  2014-07-21T11:05:51.945000   \n",
       "1137    Matheus Macedo  2014-07-21T04:24:24.585000   \n",
       "\n",
       "                                                CONTENT  Emoji Count  CLASS  \n",
       "0     Huh, anyway check out this you[tube] channel: ...            0      1  \n",
       "1     Hey guys check out my new channel and our firs...            0      1  \n",
       "2                just for test I have to say murdev.com            0      1  \n",
       "3      me shaking my sexy ass on my channel enjoy ^_^ ﻿            0      1  \n",
       "4               watch?v=vtaRGgvGtWQ   Check this out .﻿            0      1  \n",
       "...                                                 ...          ...    ...  \n",
       "1133                   Like this comment for no reason﻿            0      1  \n",
       "1134                                    love this song﻿            0      0  \n",
       "1135  this song is awesome. these guys are the best....            0      1  \n",
       "1136   HOW MANY THUMBS UP FOR LOUIS SAVING THE DAY!?!?﻿            0      1  \n",
       "1137                                           NICE :3﻿            0      0  \n",
       "\n",
       "[1138 rows x 5 columns]"
      ]
     },
     "metadata": {},
     "output_type": "display_data"
    }
   ],
   "source": [
    "import emoji\n",
    "\n",
    "arr = []\n",
    "arr2 = []\n",
    "\n",
    "for str in df['CONTENT']:\n",
    "    d = emoji.emoji_list(str)\n",
    "    arr.append(len(d))\n",
    "    arr2.append(len(str))\n",
    "    \n",
    "df.insert(3, \"Emoji Count\", arr, True)\n",
    "display(df)"
   ]
  },
  {
   "cell_type": "markdown",
   "id": "2389c526-52ef-42f2-bd02-5019150a0965",
   "metadata": {},
   "source": [
    "Here, we count the amount of emojis and add it to an array which will equal the number of rows in our dataset. We also keep track on the length of each string here. Then, we will use the basic line plot to see the relationship between the 2 variables. First, we will plot it against the whole dataset. We can change the color of the data points based on if they have at least 1 emoji vs none:"
   ]
  },
  {
   "cell_type": "code",
   "execution_count": 7,
   "id": "9cb93bc6-1015-4a07-8d87-4eec3b93b138",
   "metadata": {},
   "outputs": [
    {
     "data": {
      "image/png": "[encoded data removed]",
      "text/plain": [
       "<Figure size 640x480 with 1 Axes>"
      ]
     },
     "metadata": {},
     "output_type": "display_data"
    },
    {
     "name": "stdout",
     "output_type": "stream",
     "text": [
      "Number of comments without emojis 1103\n",
      "Number of comments with emojis 35\n"
     ]
    }
   ],
   "source": [
    "import matplotlib.pyplot as plt\n",
    "\n",
    "arr = np.array(arr)\n",
    "\n",
    "supper = np.ma.masked_where(arr > 0, arr)\n",
    "slower = np.ma.masked_where(arr == 0, arr)\n",
    "\n",
    "fig, ax = plt.subplots()\n",
    "ax.plot(arr2, slower, 'go', arr2, supper, 'bo', markersize = 3)\n",
    "plt.show()\n",
    "\n",
    "a = arr[arr == 0]\n",
    "b = arr[arr > 0]\n",
    "print(\"Number of comments without emojis\", len(a))\n",
    "print(\"Number of comments with emojis\", len(b))"
   ]
  },
  {
   "cell_type": "markdown",
   "id": "01ac5787-3904-4115-af94-8b182ea7a6e6",
   "metadata": {},
   "source": [
    "As shown, most of the comments dont contain emojis. We can now test to see how much of the spam comments and non-spam comments contain emojis using the same method:"
   ]
  },
  {
   "cell_type": "code",
   "execution_count": 8,
   "id": "c23fb0e5-922e-42c0-9497-3c464f6c7610",
   "metadata": {},
   "outputs": [
    {
     "data": {
      "image/png": "[encoded data removed]",
      "text/plain": [
       "<Figure size 640x480 with 1 Axes>"
      ]
     },
     "metadata": {},
     "output_type": "display_data"
    },
    {
     "name": "stdout",
     "output_type": "stream",
     "text": [
      "Number of comments without emojis 573\n",
      "Number of comments with emojis 13\n"
     ]
    },
    {
     "data": {
      "image/png": "[encoded data removed]",
      "text/plain": [
       "<Figure size 640x480 with 1 Axes>"
      ]
     },
     "metadata": {},
     "output_type": "display_data"
    },
    {
     "name": "stdout",
     "output_type": "stream",
     "text": [
      "Number of comments without emojis 530\n",
      "Number of comments with emojis 22\n"
     ]
    }
   ],
   "source": [
    "d1 = df[df['CLASS'] == 1]\n",
    "d0 = df[df['CLASS'] == 0]\n",
    "\n",
    "arr3 = []\n",
    "arr4 = []\n",
    "arr5 = []\n",
    "arr6 = []\n",
    "\n",
    "for str in d1['CONTENT']:\n",
    "    d = emoji.emoji_list(str)\n",
    "    arr3.append(len(d))\n",
    "    arr4.append(len(str))\n",
    "    \n",
    "for str in d0['CONTENT']:\n",
    "    d = emoji.emoji_list(str)\n",
    "    arr5.append(len(d))\n",
    "    arr6.append(len(str))\n",
    "    \n",
    "    \n",
    "arr3 = np.array(arr3)\n",
    "arr5 = np.array(arr5)\n",
    "\n",
    "supper = np.ma.masked_where(arr3 > 0, arr3)\n",
    "slower = np.ma.masked_where(arr3 == 0, arr3)\n",
    "\n",
    "fig, ax = plt.subplots()\n",
    "ax.plot(arr4, slower, 'go', arr4, supper, 'bo', markersize = 3)\n",
    "plt.show()\n",
    "\n",
    "a = arr3[arr3 == 0]\n",
    "b = arr3[arr3 > 0]\n",
    "print(\"Number of comments without emojis\", len(a))\n",
    "print(\"Number of comments with emojis\", len(b))\n",
    "\n",
    "\n",
    "supper = np.ma.masked_where(arr5 > 0, arr5)\n",
    "slower = np.ma.masked_where(arr5 == 0, arr5)\n",
    "\n",
    "fig, ax = plt.subplots()\n",
    "ax.plot(arr6, slower, 'go', arr6, supper, 'bo', markersize = 3)\n",
    "plt.show()\n",
    "\n",
    "a = arr5[arr5 == 0]\n",
    "b = arr5[arr5 > 0]\n",
    "print(\"Number of comments without emojis\", len(a))\n",
    "print(\"Number of comments with emojis\", len(b))\n"
   ]
  },
  {
   "cell_type": "markdown",
   "id": "2cb97f4f-b6d6-48cc-8590-e594b2a3a0d2",
   "metadata": {},
   "source": [
    "Here we see that actually the non-spam comments contain more emojis than the spam ones. Obviously both contain a very small amount, but it is interesting to see that the non-spam comments contain almost double the amount than the spam comments."
   ]
  },
  {
   "cell_type": "markdown",
   "id": "bb0738a2",
   "metadata": {},
   "source": [
    "# Classification using Machine Learning"
   ]
  },
  {
   "cell_type": "code",
   "execution_count": 9,
   "id": "8deb495a",
   "metadata": {},
   "outputs": [
    {
     "name": "stdout",
     "output_type": "stream",
     "text": [
      "R-squared: 0.75\n",
      "Mean squared error for training: 0.04\n",
      "Mean squared error for testing: 0.06\n"
     ]
    }
   ],
   "source": [
    "import pandas as pd\n",
    "import numpy as np\n",
    "from sklearn.feature_extraction.text import CountVectorizer\n",
    "from sklearn.model_selection import train_test_split\n",
    "from sklearn.naive_bayes import BernoulliNB\n",
    "from sklearn.metrics import mean_squared_error, r2_score\n",
    "\n",
    "# Importing dataset\n",
    "df = pd.read_csv('CS418_DS.csv')\n",
    "\n",
    "# Cleaning data\n",
    "df = df.drop(['COMMENT_ID'], axis=1)\n",
    "\n",
    "# In our current dataset, \"CONTENT\" is a string.\n",
    "# We need to change this strings (non-numeric) values into numbers,\n",
    "# we use Count Vectorization to convert the comment strings into number\n",
    "# so we can use Bernoulli Naive Bayes algorithm to classify commments.\n",
    "cv_model = CountVectorizer()\n",
    "cv_model.fit(df['CONTENT'], df['CLASS'])\n",
    "x = cv_model.transform(df['CONTENT'])\n",
    "\n",
    "# Split the data into train and split subsets\n",
    "# The target in this case is the \"CLASS\" column where 0 is not a spam comment\n",
    "# and 1 represents that comment (row) is a spam comment\n",
    "# The random_state is just a random number to see the splitting of the data to reproduce results.\n",
    "train_x, test_x, train_y, test_y = train_test_split(x, df['CLASS'], test_size=0.20, random_state=57)\n",
    "\n",
    "# Fitting the Bernouilli Naive Bayes model with the split data\n",
    "# We picked BNB because it is great for predicting binary classes\n",
    "# This works for us because a comment can either be spam or not (binary column)\n",
    "Bnb_model = BernoulliNB()\n",
    "Bnb_model.fit(train_x, train_y)\n",
    "\n",
    "# Get predictions for spam comments using test data\n",
    "Bnb_pred = Bnb_model.predict(test_x)\n",
    "\n",
    "# Get predictions for spam comments using train data\n",
    "Bnb_pred_training = Bnb_model.predict(train_x)\n",
    "\n",
    "# Print the r-squared value\n",
    "print('R-squared: %.2f' % r2_score(test_y, Bnb_pred))\n",
    "\n",
    "# Print the mean squared error for training\n",
    "print('Mean squared error for training: %.2f'% mean_squared_error(train_y, Bnb_pred_training))\n",
    "\n",
    "# Print the mean squared error for testing\n",
    "print('Mean squared error for testing: %.2f'% mean_squared_error(test_y, Bnb_pred))"
   ]
  },
  {
   "cell_type": "markdown",
   "id": "8a87e697",
   "metadata": {},
   "source": [
    "# Support Vector Machines"
   ]
  },
  {
   "cell_type": "code",
   "execution_count": 10,
   "id": "1a191db9",
   "metadata": {},
   "outputs": [
    {
     "name": "stdout",
     "output_type": "stream",
     "text": [
      "R-squared: 0.84\n",
      "Mean squared error for training: 0.02\n",
      "Mean squared error for testing: 0.04\n"
     ]
    }
   ],
   "source": [
    "from sklearn import svm\n",
    "from scipy.sparse import hstack\n",
    "\n",
    "# The dataset has already been imported, cleaned, and fit using Count Vectorization\n",
    "# This data is still held in the x variable from the previous ML Analysis\n",
    "# The data stored in x is just the CONTENT column\n",
    "\n",
    "\n",
    "# We are using SVM (Support Vector Machine) for our second ML Analysis\n",
    "# This algorithm is also great for us because comments can either be spam or not\n",
    "# SVM in our case will try to create a line that seperates comments into spam or not\n",
    "# just based off the comment itself.\n",
    "\n",
    "# We will be using the same split data from ML Analysis 1 because we want to look at how\n",
    "# well the comments themselves are classified into spam\n",
    "svm_model = svm.SVC()\n",
    "svm_model.fit(train_x, train_y)\n",
    "\n",
    "# Get predictions for spam comments using test data\n",
    "svm_pred = svm_model.predict(test_x)\n",
    "\n",
    "# Get predictions for spam comments using train data\n",
    "svm_pred_training = svm_model.predict(train_x)\n",
    "\n",
    "# Print the r-squared value\n",
    "print('R-squared: %.2f' % r2_score(test_y, svm_pred))\n",
    "\n",
    "# Print the mean squared error for training\n",
    "print('Mean squared error for training: %.2f'% mean_squared_error(train_y, svm_pred_training))\n",
    "\n",
    "# Print the mean squared error for testing\n",
    "print('Mean squared error for testing: %.2f'% mean_squared_error(test_y, svm_pred))"
   ]
  },
  {
   "cell_type": "code",
   "execution_count": 11,
   "id": "bfefdb02",
   "metadata": {
    "scrolled": true
   },
   "outputs": [
    {
     "name": "stdout",
     "output_type": "stream",
     "text": [
      "R-squared: 0.84\n",
      "Mean squared error for training: 0.01\n",
      "Mean squared error for testing: 0.04\n"
     ]
    }
   ],
   "source": [
    "# Converting comments into numbers\n",
    "cv_model = CountVectorizer()\n",
    "cv_model.fit(df['CONTENT'])\n",
    "x_before = cv_model.transform(df['CONTENT'])\n",
    "\n",
    "# Converting the authors into numbers\n",
    "cv_model.fit(df['AUTHOR'])\n",
    "x2 = cv_model.transform(df['AUTHOR'])\n",
    "\n",
    "# Combining both count vectorized data into one\n",
    "# This is to split the data\n",
    "x = hstack((x_before, x2))\n",
    "\n",
    "# Split the data\n",
    "train_x, test_x, train_y, test_y = train_test_split(x, df['CLASS'], test_size=0.20, random_state=57)\n",
    "\n",
    "# SVM Model\n",
    "svm_model = svm.SVC()\n",
    "svm_model.fit(train_x, train_y)\n",
    "\n",
    "# Get predictions for spam comments using test data\n",
    "svm_pred = svm_model.predict(test_x)\n",
    "\n",
    "# Get predictions for spam comments using train data\n",
    "svm_pred_training = svm_model.predict(train_x)\n",
    "\n",
    "# Print the r-squared value\n",
    "print('R-squared: %.2f' % r2_score(test_y, svm_pred))\n",
    "\n",
    "# Print the mean squared error for training\n",
    "print('Mean squared error for training: %.2f'% mean_squared_error(train_y, svm_pred_training))\n",
    "\n",
    "# Print the mean squared error for testing\n",
    "print('Mean squared error for testing: %.2f'% mean_squared_error(test_y, svm_pred))"
   ]
  },
  {
   "cell_type": "markdown",
   "id": "62c89099",
   "metadata": {},
   "source": [
    "# Logistic Regression"
   ]
  },
  {
   "cell_type": "code",
   "execution_count": 12,
   "id": "a6265125",
   "metadata": {},
   "outputs": [
    {
     "name": "stdout",
     "output_type": "stream",
     "text": [
      "R-squared: 0.86\n",
      "Mean squared error for training: 0.00\n",
      "Mean squared error for testing: 0.04\n"
     ]
    }
   ],
   "source": [
    "from sklearn.linear_model import LogisticRegression\n",
    "\n",
    "# Logistic Regresssion model creation and fitting\n",
    "LR_model = LogisticRegression(random_state=57)\n",
    "LR_model.fit(train_x, train_y)\n",
    "\n",
    "# Get predictions for spam comments using test data\n",
    "LR_pred = LR_model.predict(test_x)\n",
    "\n",
    "# Get predictions for spam comments using train data\n",
    "LR_pred_training = LR_model.predict(train_x)\n",
    "\n",
    "# Print the r-squared value\n",
    "print('R-squared: %.2f' % r2_score(test_y, LR_pred))\n",
    "\n",
    "# Print the mean squared error for training\n",
    "print('Mean squared error for training: %.2f'% mean_squared_error(train_y, LR_pred_training))\n",
    "\n",
    "# Print the mean squared error for testing\n",
    "print('Mean squared error for testing: %.2f'% mean_squared_error(test_y, LR_pred))"
   ]
  },
  {
   "cell_type": "markdown",
   "id": "e761851f",
   "metadata": {},
   "source": [
    "# Results"
   ]
  },
  {
   "cell_type": "markdown",
   "id": "ed2b3843",
   "metadata": {},
   "source": [
    "We will briefly talk about our results for everything we did here. You can look underneath the code ff each ML analysis and visualization for additional information about the respective item.\n",
    "\n",
    "#### Visualization 1\n",
    "Visualization 1 looked at 4 fours words found in spam comments that were from our dataset. We found that the word \"check\" appeared most followed by a close second of \"https\". We then made the conclusion that scam comments more than often has the word \"check\" or a link to click on.\n",
    "\n",
    "#### Visualization 2\n",
    "For Visualization 2, we found that spam comments tend to be longer compared to non-spam comments. We found this correlation using a box plot and looking at the averages of the lengths of spam vs. non-spam comments.\n",
    "\n",
    "#### Visualization 3\n",
    "For Visualization 3, we looked at emojis found in comments and if they have any sort of relationship with spam comments. We found that non-spamm comments tend to have more emojis than spam comments. Even though both spam and non-spam comments contain small numbers of emojis, we still found that non-spam comments contained almost double the amount of spam comments.\n",
    "\n",
    "#### ML Analyses\n",
    "For all of our ML analyses, we first used Count Vectorization to convert comments and the respective authors of each comment into numbers in order to use our subsequent ML algorithms. Then, we used Bernouilli Naive Bayes, Support Vector Machine, and Logistic Regression to look at the relationships between spam comments and the contents of the spam comments themselves. We also used the authors of comments as a feature for some of our analyses. From all of our analyses, we found that Logistic Regression is the best ML algorithm out of the three we tested for classifying spam comments."
   ]
  },
  {
   "cell_type": "markdown",
   "id": "a0106d1e",
   "metadata": {},
   "source": [
    "# References"
   ]
  },
  {
   "cell_type": "markdown",
   "id": "098a5b90",
   "metadata": {},
   "source": [
    "- Sklearn\n",
    "- UCI Dataset\n",
    "- Export Comments\n",
    "- towardsdatascience.com\n",
    "- Google for basic commands and resources"
   ]
  }
 ],
 "metadata": {
  "kernelspec": {
   "display_name": "Python 3 (ipykernel)",
   "language": "python",
   "name": "python3"
  },
  "language_info": {
   "codemirror_mode": {
    "name": "ipython",
    "version": 3
   },
   "file_extension": ".py",
   "mimetype": "text/x-python",
   "name": "python",
   "nbconvert_exporter": "python",
   "pygments_lexer": "ipython3",
   "version": "3.9.12"
  }
 },
 "nbformat": 4,
 "nbformat_minor": 5
}
